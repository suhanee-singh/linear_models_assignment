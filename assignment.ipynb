{
 "cells": [
  {
   "cell_type": "markdown",
   "id": "e0c7b14a-e5aa-4abc-b48b-b8a9d20dacac",
   "metadata": {
    "id": "e0c7b14a-e5aa-4abc-b48b-b8a9d20dacac"
   },
   "source": [
    "# Assignment: Linear Models\n",
    "## Do two questions in total: \"Q1+Q2\" or \"Q1+Q3\"\n",
    "### `! git clone https://github.com/ds3001f25/linear_models_assignment.git`"
   ]
  },
  {
   "cell_type": "markdown",
   "id": "ca1cfba3",
   "metadata": {
    "vscode": {
     "languageId": "plaintext"
    }
   },
   "source": [
    "**Q1.** Let's explore multiple linear regression in a two-variable case, to build more intuition about what is happening.\n",
    "\n",
    "Suppose the model is \n",
    "$$\n",
    "\\hat{y}_i = b_0 + b_1 z_{i1} + b_2 z_{i2}\n",
    "$$\n",
    "Assume that $z_{ij}$ is centered or de-meaned, so that $z_{ij} = x_{ij} - m_j$ where $m_j$ is the mean of variable $j$ and $x_{ij}$ is the original value of variable $j$ for observation $i$. Notice that this implies\n",
    "$$\n",
    "\\dfrac{1}{N} \\sum_{i=1}^N z_{ij} = 0\n",
    "$$\n",
    "which will simplify your calculations below substantially!\n",
    "\n",
    "1. Write down the SSE for this model.\n",
    "2. Take partial derivatives with respect to $b_0$, $b_1$, and $b_2$.\n",
    "3. Verify that the average error is zero and $e \\cdot z =0$ at the optimum, just as in the single linear regression case.\n",
    "4. Show that the optimal intercept is $b_0^* = \\bar{y}$. Eliminate $b_0^*$ from the remaining equations, and focus on $b_1$ and $b_2$.\n",
    "5. Write your results as a matrix equation in the form \"$Ab=C$\". These are called the **normal equations**.\n",
    "6. Divide both sides by $N$ and substitute $z_{ij} = x_{ij} - m_j$ back into your normal equations for $x_{ij}$. What is the matrix $A$? What is the vector $C$? Explain the intuition of your discovery."
   ]
  },
  {
   "cell_type": "markdown",
   "id": "b4d8d30a",
   "metadata": {},
   "source": [
    "#1-5 are "
   ]
  },
  {
   "cell_type": "code",
   "execution_count": null,
   "id": "cea4d563",
   "metadata": {},
   "outputs": [],
   "source": [
    "# Q6 with C = [ S(yi*zi1), S(yi*zi2) ]^T\n",
    "\n",
    "# Divide by N:\n",
    "# [ (1/N)S(zi1^2)   (1/N)S(zi1*zi2) ] [b1] = [ (1/N)S(yi*zi1) ]\n",
    "# [ (1/N)S(zi1*zi2) (1/N)S(zi2^2)   ] [b2]   [ (1/N)S(yi*zi2) ]\n",
    "\n",
    "# Using z_ij = x_ij - m_j and centering:\n",
    "# (1/N)S(zi1^2)   = Var(x1)\n",
    "# (1/N)S(zi2^2)   = Var(x2)\n",
    "# (1/N)S(zi1*zi2) = Cov(x1, x2)\n",
    "# (1/N)S(yi*zi1)  = Cov(x1, y)\n",
    "# (1/N)S(yi*zi2)  = Cov(x2, y)\n",
    "\n",
    "# Covariance-form normal equations:\n",
    "# [[ Var(x1),   Cov(x1,x2) ],\n",
    "#  [ Cov(x1,x2), Var(x2)   ]] [b1, b2]^T\n",
    "#   = [ Cov(x1,y), Cov(x2,y) ]^T\n",
    "\n",
    "#Matrix A captures how the predictors relate to each other (their variances and shared covariance).\n",
    "#Vector C captures how each predictor relates to y.\n",
    "#Solving A b = C gives the weights that combine the predictors to predict y while accounting for their overlap so each coefficient reflects a predictor’s contribution after controlling for the other."
   ]
  },
  {
   "cell_type": "markdown",
   "id": "aedcd486",
   "metadata": {},
   "source": [
    "**Q3.** This question refers to the `heart_hw.csv` data. It contains three variables:\n",
    "\n",
    "  - `y`: Whether the individual survived for three years, coded 0 for death and 1 for survival\n",
    "  - `age`: Patient's age\n",
    "  - `transplant`: `control` for not receiving a transplant and `treatment` for receiving a transplant\n",
    "\n",
    "Since a heart transplant is a dangerous operation and even people who successfully get heart transplants might suffer later complications, we want to look at whether a group of transplant recipients tends to survive longer than a comparison group who does not get the procedure.\n",
    "\n",
    "1. Compute (a) the proportion of people who survive in the control group who do not receive a transplant, and (b) the difference between the proportion of people who survive in the treatment group and the proportion of people who survive in the control group. In a randomized controlled trial, this is called the **average treatment effect**.\n",
    "2. Regress `y` on `transplant` using a linear model with a constant. How does the constant/intercept of the regression and the coefficient on transplant compare to your answers from part 1? Explain the relationship clearly.\n",
    "3. We'd like to include `age` in the regression, since it's reasonable to expect that older patients are less likely to survive an extensive surgery like a heart transplant. Regress `y` on a constant, transplant, and age. How does the intercept change?\n",
    "4. Build a more flexible model that allows for non-linear age effects and interactions between age and treatment. Use a train-test split to validate your model. Estimate your best model, predict the survival probability by age, and plot your results conditional on receiving a transplant and not. Describe what you see.\n",
    "5. Imagine someone suggests using these kinds of models to select who receives organ transplants; perhaps the CDC or NIH starts using a scoring algorithm to decide who is contacted about a potential organ. What are your concerns about how it is built and how it is deployed?"
   ]
  },
  {
   "cell_type": "code",
   "execution_count": 9,
   "id": "d9b3a79a",
   "metadata": {},
   "outputs": [
    {
     "name": "stdout",
     "output_type": "stream",
     "text": [
      "p_control   = 0.11764705882352941\n",
      "p_treatment = 0.34782608695652173\n",
      "result 0.23017902813299232\n"
     ]
    }
   ],
   "source": [
    "1. \n",
    "import pandas as pd\n",
    "import pandas as pd\n",
    "df = pd.read_csv(Path(\"data\") / \"heart_hw.csv\")\n",
    "\n",
    "p_by_group = df.groupby(\"transplant\")[\"y\"].mean()\n",
    "p_control   = float(p_by_group[\"control\"])\n",
    "p_treatment = float(p_by_group[\"treatment\"])\n",
    "result = p_treatment - p_control\n",
    "print(\"p_control   =\", p_control)\n",
    "print(\"p_treatment =\", p_treatment)\n",
    "print(\"result\",  result)\n"
   ]
  },
  {
   "cell_type": "code",
   "execution_count": 16,
   "id": "11f5b397",
   "metadata": {},
   "outputs": [
    {
     "name": "stdout",
     "output_type": "stream",
     "text": [
      "                            OLS Regression Results                            \n",
      "==============================================================================\n",
      "Dep. Variable:                      y   R-squared:                       0.059\n",
      "Model:                            OLS   Adj. R-squared:                  0.050\n",
      "Method:                 Least Squares   F-statistic:                     6.354\n",
      "Date:                Sun, 05 Oct 2025   Prob (F-statistic):             0.0133\n",
      "Time:                        00:07:03   Log-Likelihood:                -59.591\n",
      "No. Observations:                 103   AIC:                             123.2\n",
      "Df Residuals:                     101   BIC:                             128.5\n",
      "Df Model:                           1                                         \n",
      "Covariance Type:            nonrobust                                         \n",
      "====================================================================================\n",
      "                       coef    std err          t      P>|t|      [0.025      0.975]\n",
      "------------------------------------------------------------------------------------\n",
      "const                0.1176      0.075      1.574      0.119      -0.031       0.266\n",
      "transplant_dummy     0.2302      0.091      2.521      0.013       0.049       0.411\n",
      "==============================================================================\n",
      "Omnibus:                       22.540   Durbin-Watson:                   1.416\n",
      "Prob(Omnibus):                  0.000   Jarque-Bera (JB):               17.584\n",
      "Skew:                           0.902   Prob(JB):                     0.000152\n",
      "Kurtosis:                       2.080   Cond. No.                         3.24\n",
      "==============================================================================\n",
      "\n",
      "Notes:\n",
      "[1] Standard Errors assume that the covariance matrix of the errors is correctly specified.\n"
     ]
    }
   ],
   "source": [
    "import pandas as pd\n",
    "import statsmodels.api as sm\n",
    "# binary dummy variable for transplant\n",
    "#1 if treatment \n",
    "#2 if control\n",
    "df['transplant_dummy'] = (df['transplant'] == 'treatment').astype(int)\n",
    "X = sm.add_constant(df['transplant_dummy'])\n",
    "y = df['y']\n",
    "\n",
    "\n",
    "# Fit the linear regression model\n",
    "model = sm.OLS(y, X).fit()\n",
    "print(model.summary())"
   ]
  },
  {
   "cell_type": "markdown",
   "id": "75b7c672",
   "metadata": {},
   "source": [
    "The regression intercept and coefficient directly correspond to the group means and their difference, just as calculated in part 1. This is explained because the intercept from the regression represents the survival rate in the control group, while the coefficient on the transplant variable represents the difference in survival rates between the treatment and control groups, which is the average treatment effect"
   ]
  },
  {
   "cell_type": "code",
   "execution_count": 21,
   "id": "0fd3640b",
   "metadata": {},
   "outputs": [
    {
     "name": "stdout",
     "output_type": "stream",
     "text": [
      "Intercept: 0.7019569721740947\n",
      "Transplant coefficient: 0.2647016865036751\n",
      "Age coefficient: -0.013607217160218647\n",
      "Intercept (control at mean age): 0.09452022942957691\n"
     ]
    }
   ],
   "source": [
    "import pandas as pd\n",
    "from sklearn.linear_model import LinearRegression\n",
    "\n",
    "\n",
    "df['transplant_dummy'] = (df['transplant'] == 'treatment').astype(int)\n",
    "X = df[['transplant_dummy', 'age']]\n",
    "y = df['y']\n",
    "\n",
    "model = LinearRegression()\n",
    "model.fit(X, y)\n",
    "print(\"Intercept:\", model.intercept_)\n",
    "print(\"Transplant coefficient:\", model.coef_[0])\n",
    "print(\"Age coefficient:\", model.coef_[1])\n",
    "\n"
   ]
  },
  {
   "cell_type": "markdown",
   "id": "5a699d84",
   "metadata": {},
   "source": [
    "Including age in the regression changes the interpretation of the intercept where it now represents the predicted survival probability for a control group patient of age zero and the coefficients show the adjusted effects of transplant and age on survival probability, with older age decreasing and transplant increasing the chance of survival."
   ]
  },
  {
   "cell_type": "code",
   "execution_count": 6,
   "id": "6dbdb1e9",
   "metadata": {},
   "outputs": [
    {
     "data": {
      "image/png": "[encoded data removed]",
      "text/plain": [
       "<Figure size 640x480 with 1 Axes>"
      ]
     },
     "metadata": {},
     "output_type": "display_data"
    }
   ],
   "source": [
    "import pandas as pd\n",
    "import numpy as np\n",
    "from sklearn.model_selection import train_test_split\n",
    "from sklearn.linear_model import LinearRegression\n",
    "import matplotlib.pyplot as plt\n",
    "\n",
    "\n",
    "\n",
    "df['t'] = (df['transplant'] == 'treatment').astype(int)\n",
    "\n",
    "#new columns to analyze\n",
    "df['age2'] =df['age'] ** 2\n",
    "df['age_t'] =df['age'] * df['t']\n",
    "df['age2_t'] =df['age2'] * df['t']\n",
    "\n",
    "X = df[['t','age','age2','age_t','age2_t']]\n",
    "y = df['y']\n",
    "\n",
    "# Train and test split\n",
    "X_train, X_test, y_train, y_test = train_test_split(X, y, test_size=0.3, random_state=42)\n",
    "\n",
    "\n",
    "model = LinearRegression()\n",
    "model.fit(X_train, y_train)\n",
    "\n",
    "# Predict for a range of ages\n",
    "ages = np.linspace(df['age'].min(), df['age'].max(), 100)\n",
    "ctrl = pd.DataFrame({'t':0, 'age':ages, 'age2':ages**2, 'age_t':0, 'age2_t':0})\n",
    "treat = pd.DataFrame({'t':1, 'age':ages, 'age2':ages**2, 'age_t':ages, 'age2_t':ages**2})\n",
    "pred_ctrl = model.predict(ctrl)\n",
    "pred_treat = model.predict(treat)\n",
    "\n",
    "# just for plot\n",
    "pred_ctrl = np.clip(pred_ctrl, 0, 1)\n",
    "pred_treat = np.clip(pred_treat, 0, 1)\n",
    "\n",
    "# Plot\n",
    "plt.plot(ages, pred_ctrl, label='Control')\n",
    "plt.plot(ages, pred_treat, label='Transplant')\n",
    "plt.xlabel('Age')\n",
    "plt.ylabel('Predicted Survival Probability')\n",
    "plt.legend()\n",
    "plt.show()\n",
    "\n",
    "\n",
    "\n"
   ]
  },
  {
   "cell_type": "markdown",
   "id": "0a655b6b",
   "metadata": {},
   "source": [
    "I used a simple linear model to predict 3 year survival using treatment, age, age², and their interactions. I split the data 70/30 into train and test, trained on the train set, then predicted survival across ages for control and transplant. The plot shows survival dropping as age increases. The transplant curve is higher than control for most ages, meaning higher predicted survival with a transplant, and the gap gets smaller at older ages. Predictions were clipped to 0–1 just for the plot."
   ]
  },
  {
   "cell_type": "markdown",
   "id": "e06dfebc",
   "metadata": {},
   "source": [
    "Using models to allocate organ transplants raises serious concerns about fairness, transparency, and bias. these models can also be wrong more often for smaller groups and may give probabilities that aren’t accurate. If such a tool is used, it should be simple to understand and checked often for fairness/accuracy and doctors should be able to override it with clear reasons."
   ]
  }
 ],
 "metadata": {
  "colab": {
   "provenance": []
  },
  "kernelspec": {
   "display_name": "Python 3 (ipykernel)",
   "language": "python",
   "name": "python3"
  },
  "language_info": {
   "codemirror_mode": {
    "name": "ipython",
    "version": 3
   },
   "file_extension": ".py",
   "mimetype": "text/x-python",
   "name": "python",
   "nbconvert_exporter": "python",
   "pygments_lexer": "ipython3",
   "version": "3.11.1"
  }
 },
 "nbformat": 4,
 "nbformat_minor": 5
}
